{
 "cells": [
  {
   "cell_type": "code",
   "execution_count": 1,
   "metadata": {},
   "outputs": [],
   "source": [
    "from bs4 import BeautifulSoup\n",
    "import time \n",
    "import pandas\n",
    "import requests"
   ]
  },
  {
   "cell_type": "code",
   "execution_count": 2,
   "metadata": {},
   "outputs": [],
   "source": [
    "def load_html(url):\n",
    "    response = requests.get(url)\n",
    "    if not response.ok:\n",
    "        print(f\"{response.status_code}, url: {url}\")\n",
    "    return response.text"
   ]
  },
  {
   "cell_type": "code",
   "execution_count": 3,
   "metadata": {},
   "outputs": [],
   "source": [
    "url = \"http://regionalip.aripo.org/wopublish-search/public/home?1\""
   ]
  },
  {
   "cell_type": "code",
   "execution_count": 4,
   "metadata": {},
   "outputs": [],
   "source": [
    "pages = load_html(url)"
   ]
  },
  {
   "cell_type": "code",
   "execution_count": 5,
   "metadata": {},
   "outputs": [],
   "source": [
    "soup = BeautifulSoup(pages, 'lxml')\n",
    "target_page = soup.find('div', class_='col-md-5 landing-page-table-container')\n",
    "rows = target_page.find_all_next('div', class_='row')\n",
    "del(rows[0])"
   ]
  },
  {
   "cell_type": "code",
   "execution_count": 6,
   "metadata": {},
   "outputs": [],
   "source": [
    "flags, countries, patents, designs, trademarks = list(), list(), list(), list(), list()"
   ]
  },
  {
   "cell_type": "code",
   "execution_count": 7,
   "metadata": {},
   "outputs": [],
   "source": [
    "class Data():\n",
    "\n",
    "    def __init__(self, flag, country, patent, design, trademark):\n",
    "\n",
    "        self.flag = flag\n",
    "        self.country = country\n",
    "        self.patent = patent\n",
    "        self.design = design\n",
    "        self.trademark = trademark\n",
    "\n",
    "    def describe(self):\n",
    "        print(f\"\\\n",
    "            flag : {self.flag} \\n\\\n",
    "            country : {self.country} \\n\\\n",
    "            patent : {self.patent}\\n\\\n",
    "            design : {self.design} \\n\\\n",
    "            trademark : {self.trademark}\\n\\\n",
    "        \")\n",
    "\n",
    "\n",
    "all_datas = list()"
   ]
  },
  {
   "cell_type": "code",
   "execution_count": 8,
   "metadata": {},
   "outputs": [],
   "source": [
    "for i in range(len(rows)):\n",
    "    flag = rows[i].find('img', class_='primary-border-color')['src']\n",
    "    country = rows[i].find('div', class_='geo-grid-drawing-container col-md-2 countryBodyClass').text\n",
    "    patent = rows[i].find('div', class_='geo-grid-data col-md-2 patentBodyClass').text\n",
    "    try:\n",
    "        design = rows[i].find('div', class_='geo-grid-data col-md-2 designBodyClass').find('div', class_='countButtonClass primary-btn-color').text\n",
    "    except:\n",
    "        design = rows[i].find('div', class_='geo-grid-data col-md-2 designBodyClass').find('div', class_='countButtonClass-zero').text\n",
    "    try:\n",
    "        trademark = rows[i].find('div', class_='geo-grid-data col-md-2 tmBodyClass').find('div', class_='countButtonClass primary-btn-color').text \n",
    "    except:\n",
    "        rows[i].find('div', class_='geo-grid-data col-md-2 tmBodyClass').find('div', class_='countButtonClass-zero').text\n",
    "    \n",
    "    new_data = Data(flag=flag, country=country, design=design, patent=patent, trademark=trademark)\n",
    "    all_datas.append(new_data)"
   ]
  },
  {
   "cell_type": "code",
   "execution_count": 9,
   "metadata": {},
   "outputs": [],
   "source": [
    "for data in all_datas:\n",
    "    flags.append(data.flag)\n",
    "    countries.append(data.country)\n",
    "    patents.append(data.patent)\n",
    "    designs.append(data.design)\n",
    "    trademarks.append(data.trademark)\n"
   ]
  },
  {
   "cell_type": "code",
   "execution_count": 10,
   "metadata": {},
   "outputs": [],
   "source": [
    "table = pandas.DataFrame({\"Flags\": flags, \"Countries\": countries, \"Patents\": patents, \"Designs\": designs, \"Trademarks\":trademarks})"
   ]
  },
  {
   "cell_type": "code",
   "execution_count": 11,
   "metadata": {},
   "outputs": [],
   "source": [
    "table.to_excel('regionalip.xlsx')"
   ]
  }
 ],
 "metadata": {
  "kernelspec": {
   "display_name": "Python 3.10.2 ('env': venv)",
   "language": "python",
   "name": "python3"
  },
  "language_info": {
   "codemirror_mode": {
    "name": "ipython",
    "version": 3
   },
   "file_extension": ".py",
   "mimetype": "text/x-python",
   "name": "python",
   "nbconvert_exporter": "python",
   "pygments_lexer": "ipython3",
   "version": "3.10.2"
  },
  "orig_nbformat": 4,
  "vscode": {
   "interpreter": {
    "hash": "41fcd69a38e70e49d01d830aa47107d6b6cdefb4a1bf80697ec7ca02565544eb"
   }
  }
 },
 "nbformat": 4,
 "nbformat_minor": 2
}
