{
 "cells": [
  {
   "cell_type": "code",
   "execution_count": 41,
   "id": "c1720090",
   "metadata": {},
   "outputs": [],
   "source": [
    "from bs4 import BeautifulSoup\n",
    "import requests\n",
    "import re\n",
    "import csv"
   ]
  },
  {
   "cell_type": "code",
   "execution_count": 42,
   "id": "26ee29d9",
   "metadata": {},
   "outputs": [],
   "source": [
    "def get_html(url):\n",
    "    response = requests.get(url)\n",
    "    if not response.ok:\n",
    "        print(f\"{response.status_code}, url: {url}\")\n",
    "    return response.text\n",
    "\n",
    "def get_games(html):\n",
    "    soup = BeautifulSoup(html, 'lxml')\n",
    "    pattern = r'^https://store.steampowered.com/app/'\n",
    "    games = soup.find_all('a', href=re.compile(pattern))\n",
    "    return games\n",
    "\n",
    "def get_hover_data(id):\n",
    "    url = f\"https://store.steampowered.com/apphoverpublic/{id}\"\n",
    "    html = get_html(url)\n",
    "    soup = BeautifulSoup(html, 'lxml')\n",
    "\n",
    "    try:\n",
    "        title = soup.find('h4', class_='hover_title').text.strip()\n",
    "    except:\n",
    "        title = 'Not Define'\n",
    "        print(url)\n",
    "\n",
    "    try:\n",
    "        released = soup.find('div', class_='hover_release').span.text.split(':')[-1].strip()\n",
    "    except:\n",
    "        released = 'Not Define'\n",
    "        print(url)\n",
    "\n",
    "    try:\n",
    "        review_raw = soup.find('div', class_='hover_review_summary').text.strip()\n",
    "    except:\n",
    "        review_raw = 'Not Define'\n",
    "        reviews = ''\n",
    "        print(url)\n",
    "    else:\n",
    "        pattern = r'\\d+'\n",
    "        reviews = int(\"\".join(re.findall(pattern, review_raw)))\n",
    "\n",
    "    try:\n",
    "        tags_raw = soup.find_all('div', class_='app_tag')\n",
    "    except:\n",
    "        tags = 'Not Define'\n",
    "        print(url)\n",
    "    else:\n",
    "        tags_text = [tag.text for tag in tags_raw]\n",
    "        tags = ', '.join(tags_text)\n",
    "\n",
    "        data = {}\n",
    "        data['title'] = title\n",
    "        data['released'] = released\n",
    "        data['reviews'] = reviews\n",
    "        data['tags'] = tags \n",
    "\n",
    "    write_csv(data=data)\n",
    "\n",
    "def write_csv(data):\n",
    "    with open('result.csv', 'a') as file:\n",
    "        fields = ['title', 'reviews', 'released', 'tags']\n",
    "        writer = csv.DictWriter(file, fieldnames=fields)\n",
    "        writer.writerow(data)\n"
   ]
  },
  {
   "cell_type": "code",
   "execution_count": 43,
   "id": "fb7ca497",
   "metadata": {},
   "outputs": [],
   "source": [
    "#link https://store.steampowered.com/app/1295510/DRAGON_QUEST_XI_S__Les_Combattants_de_la_destine__dition_ultime/?snr=1_7_7_240_150_2\n",
    "#link https://store.steampowered.com/search/results/?query&start=50&count=50&dynamic_data=&tags=1702&snr=1_7_7_240_7&infinite=1\n",
    "# link https://store.steampowered.com/apphoverpublic/346110"
   ]
  },
  {
   "cell_type": "code",
   "execution_count": null,
   "id": "3ea00ec3",
   "metadata": {},
   "outputs": [],
   "source": [
    "start = 0 \n",
    "all_games = []\n",
    "url = f\"https://store.steampowered.com/search/results/?query&start={start}&count=50&dynamic_data=&tags=1702&snr=1_7_7_240_7\"\n",
    "while True:\n",
    "    games = get_games(get_html(url))\n",
    "    if games:\n",
    "        all_games.extend(games)\n",
    "        start += 300\n",
    "        url = f\"https://store.steampowered.com/search/results/?query&start={start}&count=50&dynamic_data=&tags=1702&snr=1_7_7_240_7\"\n",
    "    else:\n",
    "        break\n",
    "\n",
    "\n",
    "print(len(all_games))\n",
    "\n",
    "\n",
    "for game in all_games:\n",
    "    id = game.get('data-ds-appid')\n",
    "    get_hover_data(id=id)\n"
   ]
  }
 ],
 "metadata": {
  "kernelspec": {
   "display_name": "Python 3.10.2 ('env': venv)",
   "language": "python",
   "name": "python3"
  },
  "language_info": {
   "codemirror_mode": {
    "name": "ipython",
    "version": 3
   },
   "file_extension": ".py",
   "mimetype": "text/x-python",
   "name": "python",
   "nbconvert_exporter": "python",
   "pygments_lexer": "ipython3",
   "version": "3.10.2"
  },
  "vscode": {
   "interpreter": {
    "hash": "41fcd69a38e70e49d01d830aa47107d6b6cdefb4a1bf80697ec7ca02565544eb"
   }
  }
 },
 "nbformat": 4,
 "nbformat_minor": 5
}
