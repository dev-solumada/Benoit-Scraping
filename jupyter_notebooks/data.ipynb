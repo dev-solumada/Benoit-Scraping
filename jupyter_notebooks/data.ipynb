{
 "cells": [
  {
   "cell_type": "code",
   "execution_count": 1,
   "metadata": {},
   "outputs": [],
   "source": [
    "from bs4 import BeautifulSoup\n",
    "from time import sleep\n",
    "from random import randint\n",
    "\n",
    "import pandas as pd\n",
    "import numpy as np \n",
    "import requests"
   ]
  },
  {
   "cell_type": "code",
   "execution_count": 2,
   "metadata": {},
   "outputs": [],
   "source": [
    "headers = { \"Accept-language\": \"en-US, en;q=0.5\" }"
   ]
  },
  {
   "cell_type": "code",
   "execution_count": 3,
   "metadata": {},
   "outputs": [],
   "source": [
    "movie_name = []\n",
    "year       = []\n",
    "time       = []\n",
    "rating     = []\n",
    "votes      = []\n",
    "grosses    = []\n",
    "metascore  = []"
   ]
  },
  {
   "cell_type": "code",
   "execution_count": 4,
   "metadata": {},
   "outputs": [],
   "source": [
    "#link https://www.imdb.com/search/title/?count=100&groups=top_1000&sort=user_rating\n",
    "#link https://www.imdb.com/search/title/?groups=top_1000&sort=user_rating,desc&count=100&start=101&ref_=adv_ntx\n",
    "#link https://www.imdb.com/search/title/?groups=top_1000&sort=user_rating,desc&count=100&start=201&ref_=adv_nxt\n",
    "#link https://www.imdb.com/search/title/?groups=top_1000&sort=user_rating,desc&count=100&start=301&ref_=adv_nxt"
   ]
  },
  {
   "cell_type": "code",
   "execution_count": 5,
   "metadata": {},
   "outputs": [
    {
     "data": {
      "text/plain": [
       "array([  1, 101, 201, 301, 401, 501, 601, 701, 801, 901])"
      ]
     },
     "execution_count": 5,
     "metadata": {},
     "output_type": "execute_result"
    }
   ],
   "source": [
    "pages = np.arange(1, 1000, 100)"
   ]
  },
  {
   "cell_type": "code",
   "execution_count": 6,
   "metadata": {},
   "outputs": [],
   "source": [
    "for page in pages:\n",
    "    page = requests.get(f\"https://www.imdb.com/search/title/?groups=top_1000&sort=user_rating,desc&count=100&start={page}&ref_=adv_ntx\")\n",
    "    soup = BeautifulSoup(page.text, 'lxml')\n",
    "    movie_data = soup.findAll('div', attrs = {'class':\"lister-item mode-advanced\"})\n",
    "    sleep(randint(2, 8))\n",
    "    for store in movie_data:\n",
    "        name = store.h3.a.text\n",
    "        movie_name.append(name)\n",
    "        year_of_release = store.h3.find('span', class_=\"lister-item-year text-muted unbold\").text\n",
    "        year.append(year_of_release)\n",
    "        runtime = store.find('span', class_=\"runtime\").text\n",
    "        time.append(runtime)\n",
    "        rate = store.find('div', class_=\"inline-block ratings-imdb-rating\").text.replace('\\n', '')\n",
    "        rating.append(rate)\n",
    "        # meta = store.find('span', class_=\"metascore\").text if store.find('span', class_=\"metascore\") else \"Not defined\"\n",
    "        # metascore.append(meta)\n",
    "        # votegross = store.find_all('span', attrs={'name':'nv'})\n",
    "        # vote = votegross[0].text\n",
    "        # votes.append(vote)\n",
    "        # gross = votegross[1].text if len(votegross) > 1 else \"%^%^%\"\n",
    "        # grosses.append(gross)\n"
   ]
  },
  {
   "cell_type": "code",
   "execution_count": 7,
   "metadata": {},
   "outputs": [
    {
     "data": {
      "text/html": [
       "<div>\n",
       "<style scoped>\n",
       "    .dataframe tbody tr th:only-of-type {\n",
       "        vertical-align: middle;\n",
       "    }\n",
       "\n",
       "    .dataframe tbody tr th {\n",
       "        vertical-align: top;\n",
       "    }\n",
       "\n",
       "    .dataframe thead th {\n",
       "        text-align: right;\n",
       "    }\n",
       "</style>\n",
       "<table border=\"1\" class=\"dataframe\">\n",
       "  <thead>\n",
       "    <tr style=\"text-align: right;\">\n",
       "      <th></th>\n",
       "      <th>Movie Name</th>\n",
       "      <th>Year of Release</th>\n",
       "      <th>Watch Tiem</th>\n",
       "      <th>Rating</th>\n",
       "    </tr>\n",
       "  </thead>\n",
       "  <tbody>\n",
       "    <tr>\n",
       "      <th>0</th>\n",
       "      <td>The Shawshank Redemption</td>\n",
       "      <td>(1994)</td>\n",
       "      <td>142 min</td>\n",
       "      <td>9.3</td>\n",
       "    </tr>\n",
       "    <tr>\n",
       "      <th>1</th>\n",
       "      <td>The Godfather</td>\n",
       "      <td>(1972)</td>\n",
       "      <td>175 min</td>\n",
       "      <td>9.2</td>\n",
       "    </tr>\n",
       "    <tr>\n",
       "      <th>2</th>\n",
       "      <td>The Dark Knight</td>\n",
       "      <td>(2008)</td>\n",
       "      <td>152 min</td>\n",
       "      <td>9.0</td>\n",
       "    </tr>\n",
       "    <tr>\n",
       "      <th>3</th>\n",
       "      <td>The Lord of the Rings: The Return of the King</td>\n",
       "      <td>(2003)</td>\n",
       "      <td>201 min</td>\n",
       "      <td>9.0</td>\n",
       "    </tr>\n",
       "    <tr>\n",
       "      <th>4</th>\n",
       "      <td>Schindler's List</td>\n",
       "      <td>(1993)</td>\n",
       "      <td>195 min</td>\n",
       "      <td>9.0</td>\n",
       "    </tr>\n",
       "    <tr>\n",
       "      <th>...</th>\n",
       "      <td>...</td>\n",
       "      <td>...</td>\n",
       "      <td>...</td>\n",
       "      <td>...</td>\n",
       "    </tr>\n",
       "    <tr>\n",
       "      <th>995</th>\n",
       "      <td>Sabrina</td>\n",
       "      <td>(1954)</td>\n",
       "      <td>113 min</td>\n",
       "      <td>7.6</td>\n",
       "    </tr>\n",
       "    <tr>\n",
       "      <th>996</th>\n",
       "      <td>From Here to Eternity</td>\n",
       "      <td>(1953)</td>\n",
       "      <td>118 min</td>\n",
       "      <td>7.6</td>\n",
       "    </tr>\n",
       "    <tr>\n",
       "      <th>997</th>\n",
       "      <td>Snow White and the Seven Dwarfs</td>\n",
       "      <td>(1937)</td>\n",
       "      <td>83 min</td>\n",
       "      <td>7.6</td>\n",
       "    </tr>\n",
       "    <tr>\n",
       "      <th>998</th>\n",
       "      <td>The 39 Steps</td>\n",
       "      <td>(1935)</td>\n",
       "      <td>86 min</td>\n",
       "      <td>7.6</td>\n",
       "    </tr>\n",
       "    <tr>\n",
       "      <th>999</th>\n",
       "      <td>The Invisible Man</td>\n",
       "      <td>(1933)</td>\n",
       "      <td>71 min</td>\n",
       "      <td>7.6</td>\n",
       "    </tr>\n",
       "  </tbody>\n",
       "</table>\n",
       "<p>1000 rows × 4 columns</p>\n",
       "</div>"
      ],
      "text/plain": [
       "                                        Movie Name Year of Release Watch Tiem  \\\n",
       "0                         The Shawshank Redemption          (1994)    142 min   \n",
       "1                                    The Godfather          (1972)    175 min   \n",
       "2                                  The Dark Knight          (2008)    152 min   \n",
       "3    The Lord of the Rings: The Return of the King          (2003)    201 min   \n",
       "4                                 Schindler's List          (1993)    195 min   \n",
       "..                                             ...             ...        ...   \n",
       "995                                        Sabrina          (1954)    113 min   \n",
       "996                          From Here to Eternity          (1953)    118 min   \n",
       "997                Snow White and the Seven Dwarfs          (1937)     83 min   \n",
       "998                                   The 39 Steps          (1935)     86 min   \n",
       "999                              The Invisible Man          (1933)     71 min   \n",
       "\n",
       "    Rating  \n",
       "0      9.3  \n",
       "1      9.2  \n",
       "2      9.0  \n",
       "3      9.0  \n",
       "4      9.0  \n",
       "..     ...  \n",
       "995    7.6  \n",
       "996    7.6  \n",
       "997    7.6  \n",
       "998    7.6  \n",
       "999    7.6  \n",
       "\n",
       "[1000 rows x 4 columns]"
      ]
     },
     "execution_count": 7,
     "metadata": {},
     "output_type": "execute_result"
    }
   ],
   "source": [
    "# movie_list = pd.DataFrame({\"Movie Name\": movie_name, \"Year of Release\": year, \"Watch Tiem\": time, \"Rating\": rating, \"Metascore\": metascore, \"Votes\":votes, \"Gross\": grosses})\n",
    "\n",
    "movie_list = pd.DataFrame({\"Movie Name\": movie_name, \"Year of Release\": year, \"Watch Tiem\": time, \"Rating\": rating})\n",
    "movie_list\n"
   ]
  },
  {
   "cell_type": "code",
   "execution_count": 8,
   "metadata": {},
   "outputs": [],
   "source": [
    "movie_list.to_excel(\"list_of_movies.xlsx\")"
   ]
  },
  {
   "cell_type": "code",
   "execution_count": 9,
   "metadata": {},
   "outputs": [
    {
     "name": "stdout",
     "output_type": "stream",
     "text": [
      "Movie name: 1000\n",
      "Year: 1000\n",
      "Time: 1000\n",
      "Rating: 1000\n"
     ]
    }
   ],
   "source": [
    "print(f\"Movie name: {len(movie_name)}\")\n",
    "print(f\"Year: {len(year)}\")\n",
    "print(f\"Time: {len(time)}\")\n",
    "print(f\"Rating: {len(rating)}\")\n",
    "# print(f\"Votes: {len(votes)}\")\n",
    "# print(f\"Grosses: {len(grosses)}\")\n",
    "# print(f\"Metascore: {len(metascore)}\")"
   ]
  }
 ],
 "metadata": {
  "kernelspec": {
   "display_name": "Python 3.10.2 ('env': venv)",
   "language": "python",
   "name": "python3"
  },
  "language_info": {
   "codemirror_mode": {
    "name": "ipython",
    "version": 3
   },
   "file_extension": ".py",
   "mimetype": "text/x-python",
   "name": "python",
   "nbconvert_exporter": "python",
   "pygments_lexer": "ipython3",
   "version": "3.10.2"
  },
  "orig_nbformat": 4,
  "vscode": {
   "interpreter": {
    "hash": "41fcd69a38e70e49d01d830aa47107d6b6cdefb4a1bf80697ec7ca02565544eb"
   }
  }
 },
 "nbformat": 4,
 "nbformat_minor": 2
}
