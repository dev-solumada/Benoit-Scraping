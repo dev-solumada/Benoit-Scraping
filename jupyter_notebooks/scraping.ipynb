{
 "cells": [
  {
   "cell_type": "code",
   "execution_count": 23,
   "metadata": {},
   "outputs": [],
   "source": [
    "from bs4 import BeautifulSoup as bs\n",
    "from selenium import webdriver\n",
    "from webdriver_manager.chrome import ChromeDriverManager\n",
    "from selenium.webdriver.common.by import By\n",
    "from anticaptchaofficial.recaptchav2proxyless import *\n",
    "\n",
    "import requests\n",
    "import time\n",
    "import pandas as pd\n",
    "import os "
   ]
  },
  {
   "cell_type": "code",
   "execution_count": null,
   "metadata": {},
   "outputs": [],
   "source": [
    "driver = webdriver.Chrome(ChromeDriverManager().install())\n",
    "url = \"https://www.google.com/recaptcha/api2/demo\""
   ]
  },
  {
   "cell_type": "code",
   "execution_count": 25,
   "metadata": {},
   "outputs": [],
   "source": [
    "page = driver.get(url)"
   ]
  },
  {
   "cell_type": "code",
   "execution_count": null,
   "metadata": {},
   "outputs": [],
   "source": [
    "sitekey = driver.find_element(By.XPATH, \"//*[@id='recaptcha-demo']\").get_attribute('outerHTML')\n",
    "sitekey"
   ]
  },
  {
   "cell_type": "code",
   "execution_count": null,
   "metadata": {},
   "outputs": [],
   "source": [
    "sitekey_class = sitekey.split(\"data-callback\")[0].split('data-sitekey')[1]\n",
    "sitekey_class"
   ]
  },
  {
   "cell_type": "code",
   "execution_count": null,
   "metadata": {},
   "outputs": [],
   "source": [
    "solver = recaptchaV2Proxyless()\n",
    "solver.set_verbose(1)\n",
    "solver.set_key(os.environ['env'])\n",
    "solver.set(url)\n",
    "solver.set_website_key(sitekey_class)\n",
    "response = solver.solve_and_return_solution()\n",
    "if response:\n",
    "    print(f\"response: {response}\")\n",
    "else:\n",
    "    print(f\"Task finish with errors : {solver.error_code}\")\n",
    "\n",
    "driver.execute_script(\"var element=document.getElementById('g-recaptcha-response'); element.style.display='';\")\n",
    "driver.execute_script(\"var element=document.getElementById('g-recaptcha-response').innerHTML = arguments[0]\", response)\n",
    "driver.execute_script(\"var element=document.getElementById('g-recaptcha-response'); element.style.display='none';\")\n",
    "driver.find_element(By.XPATH, \"//*[@id='recaptcha-demo-submit']\").click()\n",
    "time.sleep(20)\n"
   ]
  },
  {
   "cell_type": "code",
   "execution_count": null,
   "metadata": {},
   "outputs": [],
   "source": [
    "def load_html(url):\n",
    "    response = requests.get(url)\n",
    "    if not response.ok:\n",
    "        print(f\"{response.status_code}, url: {url}\")\n",
    "    return response.text"
   ]
  },
  {
   "cell_type": "code",
   "execution_count": null,
   "metadata": {},
   "outputs": [],
   "source": [
    "html_page = load_html(url)\n",
    "soup = bs(html_page, 'lxml')"
   ]
  },
  {
   "cell_type": "code",
   "execution_count": null,
   "metadata": {},
   "outputs": [],
   "source": [
    "cookies = dict()\n",
    "cookies['JSESSIONID'] = '52135F004042B12E8516852E9734296E'\n",
    "\n",
    "headers = dict()\n",
    "headers['accept-language'] = \"fr-FR,fr;q=0.9,en-US;q=0.8,en;q=0.7\"\n",
    "headers['host'] = 'regionalip.aripo.org'\n",
    "headers['referer'] = \"http://regionalip.aripo.org/wopublish-search/public/home;jsessionid=A47346726EC33B9C1FEBC221D651F935?0\"\n",
    "headers['content-type'] = \"text/html;charset=UTF-8\"\n",
    "\n",
    "response_post = requests.post(url, headers, cookies)\n",
    "html_data = str(response_post)"
   ]
  },
  {
   "cell_type": "code",
   "execution_count": null,
   "metadata": {},
   "outputs": [],
   "source": [
    "soup_response = bs(response_post, 'lxml')"
   ]
  },
  {
   "cell_type": "code",
   "execution_count": null,
   "metadata": {},
   "outputs": [],
   "source": [
    "documents = list()\n",
    "titles = list()\n",
    "statuses = list()\n",
    "originals = list()\n",
    "filing_dates = list()\n",
    "pub_numbers = list()\n",
    "pub_dates = list()\n",
    "priority_details = list()\n",
    "ipc_classes = list()\n",
    "org_reg_numbs = list()\n",
    "reg_dates = list()\n",
    "applicants = list()\n",
    "inventors = list()\n",
    "des_states = list()"
   ]
  },
  {
   "cell_type": "code",
   "execution_count": null,
   "metadata": {},
   "outputs": [],
   "source": [
    "class Document():\n",
    "    \n",
    "    def __init__(self, status, title, original, filing_date, publication_number, publication_date, priority_Detail, ipc_class, org_reg_numb, reg_date, applicant, inventor, designated_states):\n",
    "        self.status = status\n",
    "        self.title = title \n",
    "        self.original = original\n",
    "        self.filing_date = filing_date\n",
    "        self.publication_number = publication_number\n",
    "        self.publication_date = publication_date\n",
    "        self.priority_Detail = priority_Detail\n",
    "        self.ipc_class = ipc_class\n",
    "        self.org_reg_numb = org_reg_numb\n",
    "        self.reg_date = reg_date\n",
    "        self.applicant = applicant\n",
    "        self.inventor = inventor\n",
    "        self.designated_states = designated_states\n",
    "\n",
    "    def describe(self):\n",
    "        print(\n",
    "            f\"\\\n",
    "            status: {self.status}\\n\\\n",
    "            title: {self.title}\\n\\\n",
    "            Original filing Number: {self.original}\\n\\\n",
    "            Filing date: {self.filling_date}\\n\\\n",
    "            Publication Number: {self.publication_number}\\n\\\n",
    "            Publication Date: {self.publication_date}\\n\\\n",
    "            Priority details: {self.priority_Detail}\\n\\\n",
    "            IPC Classes: {self.ipc_class}\\n\\\n",
    "            Origin registration Number: {self.org_reg_numb}\\n\\\n",
    "            Registration Date: {self.reg_date}\\n\\\n",
    "            Applicant: {self.applicant}\\n\\\n",
    "            Inventor: {self.inventor}\\n\\\n",
    "            Designated States: {self.desiganted_states}\"\n",
    "        )"
   ]
  }
 ],
 "metadata": {
  "kernelspec": {
   "display_name": "Python 3.10.2 ('env': venv)",
   "language": "python",
   "name": "python3"
  },
  "language_info": {
   "codemirror_mode": {
    "name": "ipython",
    "version": 3
   },
   "file_extension": ".py",
   "mimetype": "text/x-python",
   "name": "python",
   "nbconvert_exporter": "python",
   "pygments_lexer": "ipython3",
   "version": "3.10.2"
  },
  "orig_nbformat": 4,
  "vscode": {
   "interpreter": {
    "hash": "41fcd69a38e70e49d01d830aa47107d6b6cdefb4a1bf80697ec7ca02565544eb"
   }
  }
 },
 "nbformat": 4,
 "nbformat_minor": 2
}
